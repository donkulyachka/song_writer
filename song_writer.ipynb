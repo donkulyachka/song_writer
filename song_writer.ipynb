{
 "cells": [
  {
   "cell_type": "markdown",
   "metadata": {},
   "source": [
    "# Step 1. Collect all ngrams from a song, adding a start-of-line and end-of-line tokens at the start/end of each line."
   ]
  },
  {
   "cell_type": "code",
   "execution_count": null,
   "metadata": {
    "collapsed": true
   },
   "outputs": [],
   "source": [
    "import nltk\n",
    "from nltk import *"
   ]
  },
  {
   "cell_type": "code",
   "execution_count": null,
   "metadata": {
    "scrolled": true
   },
   "outputs": [],
   "source": [
    "ngram_list = []\n",
    "with open(\"coldplay.txt\", \"r\") as f:\n",
    "\tfor line in f.readlines():\n",
    "\t\tif line.strip():\n",
    "\t\t\tbigrams_list = bigrams(word_tokenize(line), pad_left=True,\n",
    "\t\t\t\t                   pad_right=True, left_pad_symbol='<s>',\n",
    "\t\t\t\t                   right_pad_symbol='</s>')\n",
    "\t\t\tngram_list += list(bigrams_list)\n",
    "\n",
    "print(ngram_list[:20])"
   ]
  },
  {
   "cell_type": "markdown",
   "metadata": {},
   "source": [
    "# Step 2. Do frequency distribution and save ngrams to a file because we don't want to collect them over and over again."
   ]
  },
  {
   "cell_type": "code",
   "execution_count": null,
   "metadata": {
    "scrolled": false
   },
   "outputs": [],
   "source": [
    "fd = FreqDist(ngram_list)\n",
    "print(list(fd.items())[:20])"
   ]
  },
  {
   "cell_type": "code",
   "execution_count": null,
   "metadata": {
    "collapsed": true
   },
   "outputs": [],
   "source": [
    "with open(\"coldplay-ngrams.txt\", \"w\") as f:\n",
    "\tfor key, value in fd.most_common():\n",
    "\t\tf.write(\"{} {} ~ {}\\n\".format(key[0], key[1], value))"
   ]
  },
  {
   "cell_type": "markdown",
   "metadata": {},
   "source": [
    "## check the file now\n",
    "\n",
    "# Step 3. Read ngrams in a useful data structure. Since we are doing generation, we can save 10 most frequent words that follow the word in question."
   ]
  },
  {
   "cell_type": "code",
   "execution_count": null,
   "metadata": {
    "collapsed": true
   },
   "outputs": [],
   "source": [
    "from collections import defaultdict"
   ]
  },
  {
   "cell_type": "code",
   "execution_count": null,
   "metadata": {},
   "outputs": [],
   "source": [
    "next_words = defaultdict(list)\n",
    "\n",
    "with open(\"coldplay-ngrams.txt\", \"r\") as f:\n",
    "\tfor line in f.readlines():\n",
    "\t\tngram, freq = line.split(\" ~ \")\n",
    "\t\tfirst_word, next_word = ngram.split()\n",
    "\t\tif len(next_words[first_word]) < 10:\n",
    "\t\t\tnext_words[first_word].append(next_word)\n",
    "\n",
    "print(next_words[\"rain\"])"
   ]
  },
  {
   "cell_type": "markdown",
   "metadata": {},
   "source": [
    "# Step 4. Generate one line of song, randomly selecting each new word."
   ]
  },
  {
   "cell_type": "code",
   "execution_count": null,
   "metadata": {
    "collapsed": true
   },
   "outputs": [],
   "source": [
    "import random"
   ]
  },
  {
   "cell_type": "code",
   "execution_count": null,
   "metadata": {},
   "outputs": [],
   "source": [
    "def generate_song_line(first_word):\n",
    "\t\"\"\"Generate a sentence using the first word.\"\"\"\n",
    "\tglobal next_words\n",
    "\tsentence = [first_word]\n",
    "\twhile True: #len(sentence) < 10:\n",
    "\t\tcandidates = next_words[first_word]\n",
    "\t\tif candidates:\n",
    "\t\t\tnext_word = random.choice(candidates)\n",
    "\t\t\tsentence.append(next_word)\n",
    "\t\t\tif next_word == \"</s>\":\n",
    "\t\t\t\treturn \" \".join(sentence)\n",
    "\t\telse:\n",
    "\t\t\treturn None\n",
    "\t\tfirst_word = next_word\n",
    "\treturn \" \".join(sentence)\n",
    "\n",
    "print(generate_song_line(\"I\"))"
   ]
  },
  {
   "cell_type": "markdown",
   "metadata": {},
   "source": [
    "# Step 5. Generate four lines of song."
   ]
  },
  {
   "cell_type": "code",
   "execution_count": null,
   "metadata": {
    "scrolled": false
   },
   "outputs": [],
   "source": [
    "def generate_song(first_word):\n",
    "\tsong = []\n",
    "\twhile len(song) < 4:\n",
    "\t\tline = generate_song_line(first_word)\n",
    "\t\tif line:\n",
    "\t\t\tsong.append(line)\n",
    "\t\t\tfirst_word = \"<s>\"\n",
    "\t\telse:\n",
    "\t\t\treturn \"The line cannot be generated. Try another word.\"\n",
    "\treturn \"\\n\".join(song)\n",
    "\n",
    "print(generate_song(\"<s>\"))"
   ]
  }
 ],
 "metadata": {
  "kernelspec": {
   "display_name": "Python 3",
   "language": "python",
   "name": "python3"
  },
  "language_info": {
   "codemirror_mode": {
    "name": "ipython",
    "version": 3
   },
   "file_extension": ".py",
   "mimetype": "text/x-python",
   "name": "python",
   "nbconvert_exporter": "python",
   "pygments_lexer": "ipython3",
   "version": "3.6.3"
  }
 },
 "nbformat": 4,
 "nbformat_minor": 2
}
